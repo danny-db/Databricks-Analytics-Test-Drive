{
 "cells": [
  {
   "cell_type": "code",
   "execution_count": 0,
   "metadata": {
    "application/vnd.databricks.v1+cell": {
     "cellMetadata": {
      "byteLimit": 2048000,
      "rowLimit": 10000
     },
     "inputWidgets": {},
     "nuid": "37bfed06-e219-46c2-a516-24e0288f33cb",
     "showTitle": true,
     "tableResultSettingsMap": {},
     "title": "Widget inputs for catalog, schema, and volume"
    }
   },
   "outputs": [],
   "source": [
    "dbutils.widgets.text(\"catalog\", \"test_drive\", \"catalog\")\n",
    "dbutils.widgets.text(\"schema\", \"road_crash\", \"schema\")\n",
    "dbutils.widgets.text(\"volume\", \"source\", \"volume\")"
   ]
  },
  {
   "cell_type": "code",
   "execution_count": 0,
   "metadata": {
    "application/vnd.databricks.v1+cell": {
     "cellMetadata": {
      "byteLimit": 2048000,
      "rowLimit": 10000
     },
     "inputWidgets": {},
     "nuid": "6dba1fff-3ced-4a0f-a07e-550fc8c0fa55",
     "showTitle": true,
     "tableResultSettingsMap": {},
     "title": "Storing the widget value to variables"
    }
   },
   "outputs": [],
   "source": [
    "catalog = dbutils.widgets.get(\"catalog\")\n",
    "schema = dbutils.widgets.get(\"schema\")\n",
    "volume = dbutils.widgets.get(\"volume\")"
   ]
  },
  {
   "cell_type": "code",
   "execution_count": 0,
   "metadata": {
    "application/vnd.databricks.v1+cell": {
     "cellMetadata": {
      "byteLimit": 2048000,
      "implicitDf": true,
      "rowLimit": 10000
     },
     "inputWidgets": {},
     "nuid": "e154ac17-a076-4c9f-8e12-525317ba4af8",
     "showTitle": true,
     "tableResultSettingsMap": {},
     "title": "Create catalog, schema, and volume"
    }
   },
   "outputs": [],
   "source": [
    "spark.sql(f\"CREATE CATALOG IF NOT EXISTS {catalog}\")\n",
    "spark.sql(f\"USE CATALOG {catalog}\")\n",
    "spark.sql(f\"CREATE SCHEMA IF NOT EXISTS {schema}\")\n",
    "spark.sql(f\"USE SCHEMA {schema}\")\n",
    "spark.sql(f\"CREATE VOLUME IF NOT EXISTS {volume}\")"
   ]
  },
  {
   "cell_type": "markdown",
   "metadata": {
    "application/vnd.databricks.v1+cell": {
     "cellMetadata": {
      "byteLimit": 2048000,
      "rowLimit": 10000
     },
     "inputWidgets": {},
     "nuid": "c5d03c02-f035-47b9-afc9-d7289eb19573",
     "showTitle": false,
     "tableResultSettingsMap": {},
     "title": ""
    }
   },
   "source": [
    "## SA Road Crash Dataset (2021)\n",
    "https://data.sa.gov.au/data/dataset/road-crash-data\n",
    "\n"
   ]
  },
  {
   "cell_type": "code",
   "execution_count": 0,
   "metadata": {
    "application/vnd.databricks.v1+cell": {
     "cellMetadata": {
      "byteLimit": 2048000,
      "rowLimit": 10000
     },
     "inputWidgets": {},
     "nuid": "e600c200-8c84-4e98-83f5-6fe56df235b8",
     "showTitle": true,
     "tableResultSettingsMap": {},
     "title": "Download and unzip data file from SA Gov website"
    }
   },
   "outputs": [],
   "source": [
    "import requests\n",
    "import zipfile\n",
    "import os\n",
    "\n",
    "# Define the URL and the local path\n",
    "url = \"https://data.sa.gov.au/data/dataset/21386a53-56a1-4edf-bd0b-61ed15f10acf/resource/1057e9ae-4672-4123-9c1d-1877483da401/download/2021_data_sa_as_at_20220706.zip\"\n",
    "local_zip_path = f\"/Volumes/{catalog}/{schema}/{volume}/2021_data_sa_as_at_20220706.zip\"\n",
    "unzip_dir = f\"/Volumes/{catalog}/{schema}/{volume}/\"\n",
    "\n",
    "# Download the file\n",
    "response = requests.get(url)\n",
    "with open(local_zip_path, 'wb') as file:\n",
    "    file.write(response.content)\n",
    "\n",
    "# Unzip the file\n",
    "with zipfile.ZipFile(local_zip_path, 'r') as zip_ref:\n",
    "    zip_ref.extractall(unzip_dir)\n",
    "\n",
    "# Optionally, remove the zip file after extraction\n",
    "os.remove(local_zip_path)"
   ]
  },
  {
   "cell_type": "code",
   "execution_count": 0,
   "metadata": {
    "application/vnd.databricks.v1+cell": {
     "cellMetadata": {
      "byteLimit": 2048000,
      "rowLimit": 10000
     },
     "inputWidgets": {},
     "nuid": "d0bcdeaf-6ef5-4181-9993-2c365f1082f4",
     "showTitle": true,
     "tableResultSettingsMap": {},
     "title": "Display file paths - unzipped files"
    }
   },
   "outputs": [],
   "source": [
    "display(dbutils.fs.ls(f\"/Volumes/{catalog}/{schema}/{volume}/\"))"
   ]
  },
  {
   "cell_type": "code",
   "execution_count": 0,
   "metadata": {
    "application/vnd.databricks.v1+cell": {
     "cellMetadata": {
      "byteLimit": 2048000,
      "rowLimit": 10000
     },
     "inputWidgets": {},
     "nuid": "e2b3d2b4-42e0-4024-a0c1-554f8accd1bb",
     "showTitle": true,
     "tableResultSettingsMap": {},
     "title": "Read and display 2021 SA Crash data"
    }
   },
   "outputs": [],
   "source": [
    "df_crash = spark.read.csv(f\"/Volumes/{catalog}/{schema}/{volume}/2021_DATA_SA_Crash.csv\", header=True, inferSchema=True)\n",
    "display(df_crash)"
   ]
  },
  {
   "cell_type": "code",
   "execution_count": 0,
   "metadata": {
    "application/vnd.databricks.v1+cell": {
     "cellMetadata": {
      "byteLimit": 2048000,
      "rowLimit": 10000
     },
     "inputWidgets": {},
     "nuid": "007cfb39-d668-4255-ad03-86c5ed589e8a",
     "showTitle": true,
     "tableResultSettingsMap": {
      "0": {
       "dataGridStateBlob": "{\"version\":1,\"tableState\":{\"columnPinning\":{\"left\":[\"#row_number#\"],\"right\":[]},\"columnSizing\":{},\"columnVisibility\":{}},\"settings\":{\"columns\":{}},\"syncTimestamp\":1759589105848}",
       "filterBlob": null,
       "queryPlanFiltersBlob": null,
       "tableResultIndex": 0
      }
     },
     "title": "Transform the CRS from EPSG 3107 to 4326"
    }
   },
   "outputs": [],
   "source": [
    "from pyspark.sql.functions import expr\n",
    "\n",
    "df_crash_transformed = df_crash.withColumn(\n",
    "    \"accloc_4326\",\n",
    "    expr(\"st_astext(st_transform(st_setsrid(st_point(accloc_x, accloc_y), 3107), 4326))\")\n",
    ").withColumn(\n",
    "    \"longitude\",\n",
    "    expr(\"st_x(st_geomfromtext(accloc_4326))\")\n",
    ").withColumn(\n",
    "    \"latitude\",\n",
    "    expr(\"st_y(st_geomfromtext(accloc_4326))\")\n",
    ")\n",
    "display(df_crash_transformed)"
   ]
  },
  {
   "cell_type": "code",
   "execution_count": 0,
   "metadata": {
    "application/vnd.databricks.v1+cell": {
     "cellMetadata": {
      "byteLimit": 2048000,
      "rowLimit": 10000
     },
     "inputWidgets": {},
     "nuid": "639beed3-e2bb-4074-9236-4a5e9d706964",
     "showTitle": true,
     "tableResultSettingsMap": {},
     "title": "Update Crash Table Schema, write data and Add Primary Key"
    }
   },
   "outputs": [],
   "source": [
    "spark.sql(f\"\"\"\n",
    "CREATE TABLE IF NOT EXISTS {catalog}.{schema}.crash\n",
    "TBLPROPERTIES ('delta.columnMapping.mode' = 'name')\n",
    "\"\"\")\n",
    "\n",
    "df_crash_transformed.write.mode(\"overwrite\").option(\"overwriteSchema\", \"true\").saveAsTable(f\"{catalog}.{schema}.crash\")\n",
    "\n",
    "spark.sql(f\"\"\"\n",
    "ALTER TABLE {catalog}.{schema}.crash\n",
    "ALTER COLUMN REPORT_ID SET NOT NULL\n",
    "\"\"\")\n",
    "\n",
    "spark.sql(f\"\"\"\n",
    "ALTER TABLE {catalog}.{schema}.crash\n",
    "ADD CONSTRAINT pk_crash_report_id PRIMARY KEY (REPORT_ID)\n",
    "\"\"\")"
   ]
  },
  {
   "cell_type": "code",
   "execution_count": 0,
   "metadata": {
    "application/vnd.databricks.v1+cell": {
     "cellMetadata": {
      "byteLimit": 2048000,
      "rowLimit": 10000
     },
     "inputWidgets": {},
     "nuid": "1ed9126e-14de-4962-8aba-65a3c2678473",
     "showTitle": true,
     "tableResultSettingsMap": {
      "0": {
       "dataGridStateBlob": "{\"version\":1,\"tableState\":{\"columnPinning\":{\"left\":[\"#row_number#\"],\"right\":[]},\"columnSizing\":{},\"columnVisibility\":{}},\"settings\":{\"columns\":{}},\"syncTimestamp\":1757418956030}",
       "filterBlob": null,
       "queryPlanFiltersBlob": null,
       "tableResultIndex": 0
      }
     },
     "title": "Describe extended crash table"
    }
   },
   "outputs": [],
   "source": [
    "display(spark.sql(f\"DESCRIBE EXTENDED {catalog}.{schema}.crash\"))"
   ]
  },
  {
   "cell_type": "code",
   "execution_count": 0,
   "metadata": {
    "application/vnd.databricks.v1+cell": {
     "cellMetadata": {
      "byteLimit": 2048000,
      "rowLimit": 10000
     },
     "inputWidgets": {},
     "nuid": "b6cafdd1-f8e6-46b9-9d38-aa314d1599b9",
     "showTitle": true,
     "tableResultSettingsMap": {},
     "title": "Read and display 2021 SA Units data from CSV file"
    }
   },
   "outputs": [],
   "source": [
    "df_units = spark.read.csv(f\"/Volumes/{catalog}/{schema}/{volume}/2021_DATA_SA_Units.csv\", header=True, inferSchema=True)\n",
    "display(df_units)"
   ]
  },
  {
   "cell_type": "code",
   "execution_count": 0,
   "metadata": {
    "application/vnd.databricks.v1+cell": {
     "cellMetadata": {
      "byteLimit": 2048000,
      "rowLimit": 10000
     },
     "inputWidgets": {},
     "nuid": "7ec3de32-df92-440a-90b6-30ff95f28bf0",
     "showTitle": true,
     "tableResultSettingsMap": {},
     "title": "Ensuring Integrity of Units Table"
    }
   },
   "outputs": [],
   "source": [
    "spark.sql(f\"\"\"\n",
    "CREATE TABLE IF NOT EXISTS {catalog}.{schema}.units\n",
    "TBLPROPERTIES ('delta.columnMapping.mode' = 'name')\n",
    "\"\"\")\n",
    "\n",
    "df_units.write.mode(\"overwrite\").option(\"overwriteSchema\", \"true\").saveAsTable(f\"{catalog}.{schema}.units\")\n",
    "\n",
    "spark.sql(f\"\"\"\n",
    "ALTER TABLE {catalog}.{schema}.units\n",
    "ALTER COLUMN REPORT_ID SET NOT NULL\n",
    "\"\"\")\n",
    "\n",
    "spark.sql(f\"\"\"\n",
    "ALTER TABLE {catalog}.{schema}.units\n",
    "ALTER COLUMN `Unit No` SET NOT NULL\n",
    "\"\"\")\n",
    "\n",
    "spark.sql(f\"\"\"\n",
    "ALTER TABLE {catalog}.{schema}.units\n",
    "ADD CONSTRAINT pk_units_composite PRIMARY KEY (REPORT_ID, `Unit No`)\n",
    "\"\"\")\n",
    "\n",
    "spark.sql(f\"\"\"\n",
    "ALTER TABLE {catalog}.{schema}.units\n",
    "ADD CONSTRAINT fk_units_report_id FOREIGN KEY (REPORT_ID) REFERENCES {catalog}.{schema}.crash(REPORT_ID)\n",
    "\"\"\")"
   ]
  },
  {
   "cell_type": "code",
   "execution_count": 0,
   "metadata": {
    "application/vnd.databricks.v1+cell": {
     "cellMetadata": {
      "byteLimit": 2048000,
      "rowLimit": 10000
     },
     "inputWidgets": {},
     "nuid": "b24a924c-bff6-4122-8c18-e112696082f2",
     "showTitle": true,
     "tableResultSettingsMap": {},
     "title": "Describe extended units table"
    }
   },
   "outputs": [],
   "source": [
    "display(spark.sql(f\"DESCRIBE EXTENDED {catalog}.{schema}.units\"))"
   ]
  },
  {
   "cell_type": "code",
   "execution_count": 0,
   "metadata": {
    "application/vnd.databricks.v1+cell": {
     "cellMetadata": {
      "byteLimit": 2048000,
      "rowLimit": 10000
     },
     "inputWidgets": {},
     "nuid": "4008780d-677f-4ee3-85e2-efc40dfc2229",
     "showTitle": true,
     "tableResultSettingsMap": {},
     "title": "Load and display SA Casualty data from 2021"
    }
   },
   "outputs": [],
   "source": [
    "df_casuality = spark.read.csv(f\"/Volumes/{catalog}/{schema}/{volume}/2021_DATA_SA_Casualty.csv\", header=True, inferSchema=True)\n",
    "display(df_casuality)"
   ]
  },
  {
   "cell_type": "code",
   "execution_count": 0,
   "metadata": {
    "application/vnd.databricks.v1+cell": {
     "cellMetadata": {
      "byteLimit": 2048000,
      "rowLimit": 10000
     },
     "inputWidgets": {},
     "nuid": "8c43ad17-d960-4ffb-b0fa-a19ff977296f",
     "showTitle": true,
     "tableResultSettingsMap": {},
     "title": "Updating Casuality Table Constraints and Keys"
    }
   },
   "outputs": [],
   "source": [
    "spark.sql(f\"\"\"\n",
    "CREATE TABLE IF NOT EXISTS {catalog}.{schema}.casuality\n",
    "TBLPROPERTIES ('delta.columnMapping.mode' = 'name')\n",
    "\"\"\")\n",
    "\n",
    "df_casuality.write.mode(\"overwrite\").option(\"overwriteSchema\", \"true\").saveAsTable(f\"{catalog}.{schema}.casuality\")\n",
    "\n",
    "spark.sql(f\"\"\"\n",
    "ALTER TABLE {catalog}.{schema}.casuality\n",
    "ALTER COLUMN REPORT_ID SET NOT NULL\n",
    "\"\"\")\n",
    "\n",
    "spark.sql(f\"\"\"\n",
    "ALTER TABLE {catalog}.{schema}.casuality\n",
    "ALTER COLUMN UND_UNIT_NUMBER SET NOT NULL\n",
    "\"\"\")\n",
    "\n",
    "spark.sql(f\"\"\"\n",
    "ALTER TABLE {catalog}.{schema}.casuality\n",
    "ALTER COLUMN CASUALTY_NUMBER SET NOT NULL\n",
    "\"\"\")\n",
    "\n",
    "spark.sql(f\"\"\"\n",
    "ALTER TABLE {catalog}.{schema}.casuality\n",
    "ADD CONSTRAINT pk_casuality_composite PRIMARY KEY (REPORT_ID, UND_UNIT_NUMBER, CASUALTY_NUMBER)\n",
    "\"\"\")\n",
    "\n",
    "spark.sql(f\"\"\"\n",
    "ALTER TABLE {catalog}.{schema}.casuality\n",
    "ADD CONSTRAINT fk_casuality_report_id FOREIGN KEY (REPORT_ID) REFERENCES {catalog}.{schema}.crash(REPORT_ID)\n",
    "\"\"\")\n",
    "\n",
    "spark.sql(f\"\"\"\n",
    "ALTER TABLE {catalog}.{schema}.casuality\n",
    "ADD CONSTRAINT fk_casuality_composite FOREIGN KEY (REPORT_ID, UND_UNIT_NUMBER) REFERENCES {catalog}.{schema}.units(REPORT_ID, `Unit No`)\n",
    "\"\"\")"
   ]
  },
  {
   "cell_type": "code",
   "execution_count": 0,
   "metadata": {
    "application/vnd.databricks.v1+cell": {
     "cellMetadata": {
      "byteLimit": 2048000,
      "rowLimit": 10000
     },
     "inputWidgets": {},
     "nuid": "29138c49-dd6b-4cf8-8199-8d5869c190ef",
     "showTitle": true,
     "tableResultSettingsMap": {
      "0": {
       "dataGridStateBlob": null,
       "filterBlob": "{\"version\":1,\"filterGroups\":[],\"syncTimestamp\":1757422239906}",
       "queryPlanFiltersBlob": "[]",
       "tableResultIndex": 0
      }
     },
     "title": "Retrieve Constraints and Relationships"
    }
   },
   "outputs": [],
   "source": [
    "sdf = spark.sql(f\"\"\"\n",
    "SELECT \n",
    "    kcu.table_schema AS schema_name,\n",
    "    kcu.table_name,\n",
    "    kcu.column_name,\n",
    "    tc.constraint_type,\n",
    "    kcu.ordinal_position,\n",
    "    fk_kcu.table_schema AS referenced_schema_name,\n",
    "    fk_kcu.table_name AS referenced_table_name,\n",
    "    fk_kcu.column_name AS referenced_column_name\n",
    "FROM {catalog}.information_schema.table_constraints AS tc\n",
    "JOIN {catalog}.information_schema.key_column_usage AS kcu\n",
    "    ON tc.constraint_name = kcu.constraint_name\n",
    "    AND tc.table_schema = kcu.table_schema\n",
    "    AND tc.table_name = kcu.table_name\n",
    "LEFT JOIN {catalog}.information_schema.referential_constraints AS rc\n",
    "    ON tc.constraint_name = rc.constraint_name\n",
    "    AND tc.table_schema = rc.constraint_schema\n",
    "LEFT JOIN {catalog}.information_schema.key_column_usage AS fk_kcu\n",
    "    ON rc.unique_constraint_name = fk_kcu.constraint_name\n",
    "    AND kcu.ordinal_position = fk_kcu.ordinal_position\n",
    "    AND rc.unique_constraint_schema = fk_kcu.constraint_schema\n",
    "WHERE kcu.table_schema = '{schema}'\n",
    "ORDER BY kcu.table_schema, kcu.table_name, tc.constraint_type DESC, kcu.ordinal_position\n",
    "\"\"\")\n",
    "\n",
    "display(sdf)"
   ]
  }
 ],
 "metadata": {
  "application/vnd.databricks.v1+notebook": {
   "computePreferences": {
    "hardware": {
     "accelerator": null,
     "gpuPoolId": null,
     "memory": null
    }
   },
   "dashboards": [],
   "environmentMetadata": {
    "base_environment": "",
    "environment_version": "3"
   },
   "inputWidgetPreferences": null,
   "language": "python",
   "notebookMetadata": {
    "mostRecentlyExecutedCommandWithImplicitDF": {
     "commandId": -1,
     "dataframes": [
      "_sqldf"
     ]
    },
    "pythonIndentUnit": 2
   },
   "notebookName": "01. Downloading data",
   "widgets": {
    "catalog": {
     "currentValue": "test_drive",
     "nuid": "5c8f8d5e-987e-4ab7-b6db-6aef4b321a12",
     "typedWidgetInfo": {
      "autoCreated": false,
      "defaultValue": "test_drive",
      "label": "catalog",
      "name": "catalog",
      "options": {
       "widgetDisplayType": "Text",
       "validationRegex": null
      },
      "parameterDataType": "String"
     },
     "widgetInfo": {
      "widgetType": "text",
      "defaultValue": "test_drive",
      "label": "catalog",
      "name": "catalog",
      "options": {
       "widgetType": "text",
       "autoCreated": null,
       "validationRegex": null
      }
     }
    },
    "schema": {
     "currentValue": "road_crash",
     "nuid": "cab458f6-c4d4-4178-b3b4-7406b5b0d904",
     "typedWidgetInfo": {
      "autoCreated": false,
      "defaultValue": "road_crash",
      "label": "schema",
      "name": "schema",
      "options": {
       "widgetDisplayType": "Text",
       "validationRegex": null
      },
      "parameterDataType": "String"
     },
     "widgetInfo": {
      "widgetType": "text",
      "defaultValue": "road_crash",
      "label": "schema",
      "name": "schema",
      "options": {
       "widgetType": "text",
       "autoCreated": null,
       "validationRegex": null
      }
     }
    },
    "volume": {
     "currentValue": "source",
     "nuid": "f2ba5ea6-327d-4a5f-962a-d8e97c2b4dc9",
     "typedWidgetInfo": {
      "autoCreated": false,
      "defaultValue": "source",
      "label": "volume",
      "name": "volume",
      "options": {
       "widgetDisplayType": "Text",
       "validationRegex": null
      },
      "parameterDataType": "String"
     },
     "widgetInfo": {
      "widgetType": "text",
      "defaultValue": "source",
      "label": "volume",
      "name": "volume",
      "options": {
       "widgetType": "text",
       "autoCreated": null,
       "validationRegex": null
      }
     }
    }
   }
  },
  "language_info": {
   "name": "python"
  }
 },
 "nbformat": 4,
 "nbformat_minor": 0
}
