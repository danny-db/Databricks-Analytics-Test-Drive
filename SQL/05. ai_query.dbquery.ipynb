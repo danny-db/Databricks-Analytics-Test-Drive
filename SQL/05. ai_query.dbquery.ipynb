{
 "cells": [
  {
   "cell_type": "code",
   "execution_count": 0,
   "metadata": {
    "application/vnd.databricks.v1+cell": {
     "cellMetadata": {
      "byteLimit": 10485760,
      "rowLimit": 1000
     },
     "inputWidgets": {},
     "nuid": "afed3693-4307-4925-a3ee-1b518bf54d53",
     "showTitle": false,
     "tableResultSettingsMap": {},
     "title": ""
    }
   },
   "outputs": [
    {
     "output_type": "display_data",
     "data": {
      "text/plain": [
       "Databricks visualization. Run in Databricks to view."
      ]
     },
     "metadata": {
      "application/vnd.databricks.v1.subcommand+json": {
       "baseErrorDetails": null,
       "bindings": {},
       "collapsed": false,
       "command": "SELECT \n  `Suburb - Incident`,\n  `Postcode - Incident`,\n  COUNT(*) as total_offences,\n  ai_query(\n    'databricks-gpt-oss-120b',\n    'Analyze this crime pattern and suggest targeted prevention strategies: ' ||\n    'Location: ' || `Suburb - Incident` || \n    ', Total incidents: ' || COUNT(*) ||\n    ', Main crime types: ' || STRING_AGG(DISTINCT `Offence Level 1 Description`, ', ') ||\n    '. Provide 3 specific law enforcement recommendations.  Provide all your output in valid HTML format (not markdown please).'\n  ) as prevention_strategies\nFROM test_drive.crime.crime_2024_2025\nWHERE `Postcode - Incident` BETWEEN 5000 AND 5020\nGROUP BY `Suburb - Incident`, `Postcode - Incident`\nORDER BY total_offences DESC;\n\n\nSELECT \n  `Suburb - Incident`,\n  `Offence Level 1 Description`,\n  `Offence Level 2 Description`,\n  `Offence Level 3 Description`,\n  `Offence count`,\n  ai_query(\n    'databricks-gpt-oss-120b',\n    'Classify this crime severity as LOW/MEDIUM/HIGH/CRITICAL based on: ' ||\n    'Primary: ' || `Offence Level 1 Description` ||\n    ', Secondary: ' || `Offence Level 2 Description` ||\n    ', Specific: ' || `Offence Level 3 Description` ||\n    ', Frequency: ' || `Offence count` ||\n    '. Return only the severity level with brief justification.'\n  ) as ai_severity_rating\nFROM test_drive.crime.crime_2024_2025\nWHERE `Postcode - Incident` BETWEEN 5000 AND 5020;\n",
       "commandTitle": "Visualization 1",
       "commandType": "auto",
       "commandVersion": 0,
       "commentThread": [],
       "commentsVisible": false,
       "contentSha256Hex": null,
       "customPlotOptions": {
        "redashChart": [
         {
          "key": "type",
          "value": "TABLE"
         },
         {
          "key": "options",
          "value": {
           "columns": [
            {
             "alignContent": "left",
             "allowHTML": false,
             "allowSearch": false,
             "booleanValues": [
              "false",
              "true"
             ],
             "displayAs": "string",
             "highlightLinks": false,
             "imageHeight": "",
             "imageTitleTemplate": "{{ @ }}",
             "imageUrlTemplate": "{{ @ }}",
             "imageWidth": "",
             "linkOpenInNewTab": true,
             "linkTextTemplate": "{{ @ }}",
             "linkTitleTemplate": "{{ @ }}",
             "linkUrlTemplate": "{{ @ }}",
             "name": "Suburb - Incident",
             "order": 100000,
             "preserveWhitespace": false,
             "title": "Suburb - Incident",
             "type": "string",
             "useMonospaceFont": false,
             "visible": true
            },
            {
             "alignContent": "left",
             "allowHTML": false,
             "allowSearch": false,
             "booleanValues": [
              "false",
              "true"
             ],
             "displayAs": "string",
             "highlightLinks": false,
             "imageHeight": "",
             "imageTitleTemplate": "{{ @ }}",
             "imageUrlTemplate": "{{ @ }}",
             "imageWidth": "",
             "linkOpenInNewTab": true,
             "linkTextTemplate": "{{ @ }}",
             "linkTitleTemplate": "{{ @ }}",
             "linkUrlTemplate": "{{ @ }}",
             "name": "Offence Level 1 Description",
             "order": 100001,
             "preserveWhitespace": false,
             "title": "Offence Level 1 Description",
             "type": "string",
             "useMonospaceFont": false,
             "visible": true
            },
            {
             "alignContent": "left",
             "allowHTML": false,
             "allowSearch": false,
             "booleanValues": [
              "false",
              "true"
             ],
             "displayAs": "string",
             "highlightLinks": false,
             "imageHeight": "",
             "imageTitleTemplate": "{{ @ }}",
             "imageUrlTemplate": "{{ @ }}",
             "imageWidth": "",
             "linkOpenInNewTab": true,
             "linkTextTemplate": "{{ @ }}",
             "linkTitleTemplate": "{{ @ }}",
             "linkUrlTemplate": "{{ @ }}",
             "name": "Offence Level 2 Description",
             "order": 100002,
             "preserveWhitespace": false,
             "title": "Offence Level 2 Description",
             "type": "string",
             "useMonospaceFont": false,
             "visible": true
            },
            {
             "alignContent": "left",
             "allowHTML": false,
             "allowSearch": false,
             "booleanValues": [
              "false",
              "true"
             ],
             "displayAs": "string",
             "highlightLinks": false,
             "imageHeight": "",
             "imageTitleTemplate": "{{ @ }}",
             "imageUrlTemplate": "{{ @ }}",
             "imageWidth": "",
             "linkOpenInNewTab": true,
             "linkTextTemplate": "{{ @ }}",
             "linkTitleTemplate": "{{ @ }}",
             "linkUrlTemplate": "{{ @ }}",
             "name": "Offence Level 3 Description",
             "order": 100003,
             "preserveWhitespace": false,
             "title": "Offence Level 3 Description",
             "type": "string",
             "useMonospaceFont": false,
             "visible": true
            },
            {
             "alignContent": "right",
             "allowHTML": false,
             "allowSearch": false,
             "booleanValues": [
              "false",
              "true"
             ],
             "displayAs": "number",
             "highlightLinks": false,
             "imageHeight": "",
             "imageTitleTemplate": "{{ @ }}",
             "imageUrlTemplate": "{{ @ }}",
             "imageWidth": "",
             "linkOpenInNewTab": true,
             "linkTextTemplate": "{{ @ }}",
             "linkTitleTemplate": "{{ @ }}",
             "linkUrlTemplate": "{{ @ }}",
             "name": "Offence count",
             "numberFormat": "0",
             "order": 100004,
             "preserveWhitespace": false,
             "title": "Offence count",
             "type": "integer",
             "useMonospaceFont": false,
             "visible": true
            },
            {
             "alignContent": "left",
             "allowHTML": true,
             "allowSearch": false,
             "booleanValues": [
              "false",
              "true"
             ],
             "displayAs": "string",
             "highlightLinks": false,
             "imageHeight": "",
             "imageTitleTemplate": "{{ @ }}",
             "imageUrlTemplate": "{{ @ }}",
             "imageWidth": "",
             "linkOpenInNewTab": true,
             "linkTextTemplate": "{{ @ }}",
             "linkTitleTemplate": "{{ @ }}",
             "linkUrlTemplate": "{{ @ }}",
             "name": "ai_severity_rating",
             "order": 100005,
             "preserveWhitespace": false,
             "title": "ai_severity_rating",
             "type": "string",
             "useMonospaceFont": false,
             "visible": true
            }
           ],
           "condensed": true,
           "itemsPerPage": 25,
           "paginationSize": "default",
           "version": 2,
           "withRowNumber": false
          }
         }
        ]
       },
       "datasetPreviewNameToCmdIdMap": {},
       "diffDeletes": [],
       "diffInserts": [],
       "displayType": "redashChart",
       "error": null,
       "errorDetails": null,
       "errorSummary": null,
       "errorTraceType": null,
       "finishTime": 0,
       "globalVars": {},
       "guid": "",
       "height": "auto",
       "hideCommandCode": false,
       "hideCommandResult": false,
       "iPythonMetadata": null,
       "inputWidgets": {},
       "isLockedInExamMode": false,
       "latestAssumeRoleInfo": null,
       "latestUser": "a user",
       "latestUserId": null,
       "listResultMetadata": null,
       "metadata": {},
       "nuid": "077c9150-05d5-4ba5-9303-8a32ae4d7b63",
       "origId": 0,
       "parentHierarchy": [],
       "pivotAggregation": null,
       "pivotColumns": null,
       "position": 2.0,
       "resultDbfsErrorMessage": null,
       "resultDbfsStatus": "INLINED_IN_TREE",
       "results": null,
       "showCommandTitle": false,
       "startTime": 0,
       "state": "input",
       "streamStates": {},
       "subcommandOptions": {
        "redashId": "61029b7e-151c-4dd0-8179-8572e7c9a437",
        "redashLastUpdated": 1759659339000
       },
       "submitTime": 0,
       "subtype": "tableResultSubCmd.visualization",
       "tableResultIndex": 0,
       "tableResultSettingsMap": {},
       "useConsistentColors": false,
       "version": "CommandV1",
       "width": "auto",
       "workflows": null,
       "xColumns": null,
       "yColumns": null
      }
     },
     "output_type": "display_data"
    }
   ],
   "source": [
    "SELECT \n",
    "  `Suburb - Incident`,\n",
    "  `Postcode - Incident`,\n",
    "  COUNT(*) as total_offences,\n",
    "  ai_query(\n",
    "    'databricks-gpt-oss-120b',\n",
    "    'Analyze this crime pattern and suggest targeted prevention strategies: ' ||\n",
    "    'Location: ' || `Suburb - Incident` || \n",
    "    ', Total incidents: ' || COUNT(*) ||\n",
    "    ', Main crime types: ' || STRING_AGG(DISTINCT `Offence Level 1 Description`, ', ') ||\n",
    "    '. Provide 3 specific law enforcement recommendations.  Provide all your output in valid HTML format (not markdown please).'\n",
    "  ) as prevention_strategies\n",
    "FROM test_drive.crime.crime_2024_2025\n",
    "WHERE `Postcode - Incident` BETWEEN 5000 AND 5020\n",
    "GROUP BY `Suburb - Incident`, `Postcode - Incident`\n",
    "ORDER BY total_offences DESC;\n",
    "\n",
    "\n",
    "SELECT \n",
    "  `Suburb - Incident`,\n",
    "  `Offence Level 1 Description`,\n",
    "  `Offence Level 2 Description`,\n",
    "  `Offence Level 3 Description`,\n",
    "  `Offence count`,\n",
    "  ai_query(\n",
    "    'databricks-gpt-oss-120b',\n",
    "    'Classify this crime severity as LOW/MEDIUM/HIGH/CRITICAL based on: ' ||\n",
    "    'Primary: ' || `Offence Level 1 Description` ||\n",
    "    ', Secondary: ' || `Offence Level 2 Description` ||\n",
    "    ', Specific: ' || `Offence Level 3 Description` ||\n",
    "    ', Frequency: ' || `Offence count` ||\n",
    "    '. Return only the severity level with brief justification. Provide all your output in valid HTML format (not markdown please).'\n",
    "  ) as ai_severity_rating\n",
    "FROM test_drive.crime.crime_2024_2025\n",
    "WHERE `Postcode - Incident` BETWEEN 5000 AND 5020;\n"
   ]
  }
 ],
 "metadata": {
  "application/vnd.databricks.v1+notebook": {
   "computePreferences": null,
   "dashboards": [],
   "environmentMetadata": null,
   "inputWidgetPreferences": null,
   "language": "sql",
   "notebookMetadata": {
    "pythonIndentUnit": 2,
    "sqlQueryOptions": {
     "applyAutoLimit": true,
     "catalog": "test_drive",
     "schema": "default"
    }
   },
   "notebookName": "05. ai_query.dbquery.ipynb",
   "widgets": {}
  },
  "language_info": {
   "name": "sql"
  }
 },
 "nbformat": 4,
 "nbformat_minor": 0
}
