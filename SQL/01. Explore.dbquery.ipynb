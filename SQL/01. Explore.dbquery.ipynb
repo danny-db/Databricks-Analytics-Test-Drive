{
 "cells": [
  {
   "cell_type": "code",
   "execution_count": 0,
   "metadata": {
    "application/vnd.databricks.v1+cell": {
     "cellMetadata": {
      "byteLimit": 10485760,
      "rowLimit": 1000
     },
     "inputWidgets": {},
     "nuid": "67b68484-a3b6-493f-b05a-7285923c64ea",
     "showTitle": false,
     "tableResultSettingsMap": {},
     "title": ""
    }
   },
   "outputs": [],
   "source": [
    "-- Set the current catalog and schema\n",
    "USE CATALOG test_drive;\n",
    "USE SCHEMA road_crash;\n",
    "\n",
    "-- Returns all the tables.\n",
    "SHOW TABLES;\n",
    "\n",
    "-- Select all the records from the table.\n",
    "SELECT * FROM crash;\n",
    "\n",
    "-- Return the delta history of the table\n",
    "DESCRIBE HISTORY test_drive.road_crash.crash;\n",
    "\n",
    "-- Return information about schema, partitioning, table size, and so on.\n",
    "DESCRIBE DETAIL test_drive.road_crash.crash;\n",
    "\n",
    "-- Display detailed information about the specified columns, \n",
    "-- including the column statistics collected by the command, and additional metadata information.\n",
    "DESCRIBE EXTENDED test_drive.road_crash.crash;\n",
    "\n",
    "-- Insert new records into the table.\n",
    "INSERT INTO test_drive.road_crash.crash (\n",
    "  REPORT_ID, `Stats Area`, Suburb, Postcode, `LGA Name`, `Total Units`, `Total Cas`, `Total Fats`, `Total SI`, `Total MI`, Year, Month, Day, Time, `Area Speed`, `Position Type`, `Horizontal Align`, `Vertical Align`, `Other Feat`, `Road Surface`, `Moisture Cond`, `Weather Cond`, DayNight, `Crash Type`, `Unit Resp`, `Entity Code`, `CSEF Severity`, `Traffic Ctrls`, `DUI Involved`, `Drugs Involved`, ACCLOC_X, ACCLOC_Y, UNIQUE_LOC, accloc_4326, longitude, latitude\n",
    ")\n",
    "VALUES (\n",
    "  'DUMMY123', 'Area 1', 'Dummy Suburb', 9999, 'Dummy LGA', 1, 2, 0, 1, 1, 2024, 'January', 'Monday', '12:00', 60, 'Type A', 'Straight', 'Flat', 'None', 'Dry', 'None', 'Clear', 'Day', 'Rear End', 1, 'E123', 'Minor', 'None', 'No', 'No', 123.456, 789.012, 1234567890, 'POINT(123.456 789.012)', 151.2093, -33.8688\n",
    ");\n",
    "\n",
    "-- Return the history information showing the new inserts.\n",
    "DESCRIBE HISTORY test_drive.road_crash.crash;\n",
    "\n",
    "-- Return the number of records in version 2 of the table.  It should return 13149.\n",
    "SELECT count(*) FROM crash VERSION AS OF 2;\n",
    "\n",
    "-- Return the number of records in version 3 (latest version) of the table.  It should return 13150.\n",
    "SELECT count(*) FROM crash;\n",
    "\n",
    "-- Restores a Delta table to an earlier state.\n",
    "RESTORE TABLE test_drive.road_crash.crash TO VERSION AS OF 2;\n",
    "\n",
    "-- Return the number of records in latest version of the table after restoring from version 2.  It should return 13149.\n",
    "SELECT count(*) FROM crash;\n",
    "\n",
    "-- Check the delta history of the table\n",
    "DESCRIBE HISTORY test_drive.road_crash.crash;\n",
    "\n",
    "-- Drop table.\n",
    "DROP TABLE test_drive.road_crash.crash;\n",
    "\n",
    "-- Show dropped tables.\n",
    "SHOW TABLES DROPPED in test_drive.road_crash;\n",
    "\n",
    "-- Undrop table.\n",
    "UNDROP TABLE test_drive.road_crash.crash;\n",
    "\n",
    "-- Return all the records of crash table\n",
    "SELECT * FROM crash;"
   ]
  }
 ],
 "metadata": {
  "application/vnd.databricks.v1+notebook": {
   "computePreferences": null,
   "dashboards": [],
   "environmentMetadata": null,
   "inputWidgetPreferences": null,
   "language": "sql",
   "notebookMetadata": {
    "pythonIndentUnit": 2,
    "sqlQueryOptions": {
     "applyAutoLimit": true,
     "catalog": "hive_metastore",
     "schema": "007d90de_9003_469e_b10d_c1400b2106f1"
    }
   },
   "notebookName": "01. Explore.dbquery.ipynb",
   "widgets": {}
  },
  "language_info": {
   "name": "sql"
  }
 },
 "nbformat": 4,
 "nbformat_minor": 0
}
