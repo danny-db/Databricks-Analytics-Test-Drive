{
 "cells": [
  {
   "cell_type": "code",
   "execution_count": 0,
   "metadata": {
    "application/vnd.databricks.v1+cell": {
     "cellMetadata": {
      "byteLimit": 10485760,
      "rowLimit": 1000
     },
     "inputWidgets": {},
     "nuid": "c0d80078-66ba-4568-8ed8-ed83a6704df3",
     "showTitle": false,
     "tableResultSettingsMap": {
      "0": {
       "dataGridStateBlob": "{\"version\":1,\"tableState\":{\"columnPinning\":{\"left\":[\"#row_number#\"],\"right\":[]},\"columnSizing\":{},\"columnVisibility\":{}},\"settings\":{\"columns\":{}},\"syncTimestamp\":1759654145633}",
       "filterBlob": null,
       "queryPlanFiltersBlob": null,
       "tableResultIndex": 0
      }
     },
     "title": ""
    }
   },
   "outputs": [],
   "source": [
    "/*\n",
    " * Databricks SQL alerts periodically run queries, evaluate defined conditions, \n",
    " * and send notifications if a condition is met. You can set up alerts to monitor \n",
    " * your business and send notifications when reported data falls outside \n",
    " * of expected limits. Scheduling an alert executes its underlying query and \n",
    " * checks the alert criteria. This is independent of any schedule that might \n",
    " * exist on the underlying query.\n",
    " */\n",
    "\n",
    "-- Set up the alert using the following logic.\n",
    "SELECT\n",
    "  suburb,\n",
    "  COUNT(Total_Casualties) as cnt\n",
    "FROM\n",
    "  test_drive.road_crash.vw_crash_details\n",
    "WHERE suburb = 'ADELAIDE'\n",
    "GROUP BY\n",
    "  suburb;"
   ]
  }
 ],
 "metadata": {
  "application/vnd.databricks.v1+notebook": {
   "computePreferences": null,
   "dashboards": [],
   "environmentMetadata": null,
   "inputWidgetPreferences": null,
   "language": "sql",
   "notebookMetadata": {
    "pythonIndentUnit": 2,
    "sqlQueryOptions": {
     "applyAutoLimit": true,
     "catalog": "hive_metastore",
     "schema": "007d90de_9003_469e_b10d_c1400b2106f1"
    }
   },
   "notebookName": "03. Alerts.dbquery.ipynb",
   "widgets": {}
  },
  "language_info": {
   "name": "sql"
  }
 },
 "nbformat": 4,
 "nbformat_minor": 0
}
