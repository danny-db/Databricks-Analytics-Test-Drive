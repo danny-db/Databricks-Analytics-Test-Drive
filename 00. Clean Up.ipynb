{
 "cells": [
  {
   "cell_type": "code",
   "execution_count": 0,
   "metadata": {
    "application/vnd.databricks.v1+cell": {
     "cellMetadata": {
      "byteLimit": 2048000,
      "rowLimit": 10000
     },
     "inputWidgets": {},
     "nuid": "17ba7baa-06b8-47b5-9c61-6f70716ec61e",
     "showTitle": true,
     "tableResultSettingsMap": {},
     "title": "Set up widget inputs for catalog, schema, and volume."
    }
   },
   "outputs": [],
   "source": [
    "dbutils.widgets.text(\"catalog\", \"test_drive\", \"catalog\")\n",
    "dbutils.widgets.text(\"schema\", \"road_crash\", \"schema\")\n",
    "dbutils.widgets.text(\"volume\", \"source\", \"volume\")"
   ]
  },
  {
   "cell_type": "code",
   "execution_count": 0,
   "metadata": {
    "application/vnd.databricks.v1+cell": {
     "cellMetadata": {
      "byteLimit": 2048000,
      "rowLimit": 10000
     },
     "inputWidgets": {},
     "nuid": "4c993e38-f5bb-4e43-ad92-8829cad86094",
     "showTitle": true,
     "tableResultSettingsMap": {},
     "title": "Widget Inputs for Catalog, Schema, and Volume"
    }
   },
   "outputs": [],
   "source": [
    "catalog = dbutils.widgets.get(\"catalog\")\n",
    "schema = dbutils.widgets.get(\"schema\")\n",
    "volume = dbutils.widgets.get(\"volume\")"
   ]
  },
  {
   "cell_type": "code",
   "execution_count": 0,
   "metadata": {
    "application/vnd.databricks.v1+cell": {
     "cellMetadata": {
      "byteLimit": 2048000,
      "rowLimit": 10000
     },
     "inputWidgets": {},
     "nuid": "e796ab02-4b21-478d-b995-3f3e45380bf7",
     "showTitle": true,
     "tableResultSettingsMap": {},
     "title": "Remove catalog from spark for the current session"
    }
   },
   "outputs": [],
   "source": [
    "spark.sql(f\"DROP CATALOG {catalog} CASCADE\")"
   ]
  }
 ],
 "metadata": {
  "application/vnd.databricks.v1+notebook": {
   "computePreferences": null,
   "dashboards": [],
   "environmentMetadata": {
    "base_environment": "",
    "environment_version": "3"
   },
   "inputWidgetPreferences": null,
   "language": "python",
   "notebookMetadata": {
    "pythonIndentUnit": 2
   },
   "notebookName": "00. Clean Up",
   "widgets": {
    "catalog": {
     "currentValue": "test_drive",
     "nuid": "2812e8d4-7026-4639-b1e2-b48a7f779ef0",
     "typedWidgetInfo": {
      "autoCreated": false,
      "defaultValue": "test_drive",
      "label": "catalog",
      "name": "catalog",
      "options": {
       "widgetDisplayType": "Text",
       "validationRegex": null
      },
      "parameterDataType": "String"
     },
     "widgetInfo": {
      "widgetType": "text",
      "defaultValue": "test_drive",
      "label": "catalog",
      "name": "catalog",
      "options": {
       "widgetType": "text",
       "autoCreated": false,
       "validationRegex": null
      }
     }
    },
    "schema": {
     "currentValue": "road_crash",
     "nuid": "a30a8508-bd76-4739-866e-e0144dab6408",
     "typedWidgetInfo": {
      "autoCreated": false,
      "defaultValue": "road_crash",
      "label": "schema",
      "name": "schema",
      "options": {
       "widgetDisplayType": "Text",
       "validationRegex": null
      },
      "parameterDataType": "String"
     },
     "widgetInfo": {
      "widgetType": "text",
      "defaultValue": "road_crash",
      "label": "schema",
      "name": "schema",
      "options": {
       "widgetType": "text",
       "autoCreated": false,
       "validationRegex": null
      }
     }
    },
    "volume": {
     "currentValue": "source",
     "nuid": "0983b387-103b-44f1-ac52-d2aa96a40795",
     "typedWidgetInfo": {
      "autoCreated": false,
      "defaultValue": "source",
      "label": "volume",
      "name": "volume",
      "options": {
       "widgetDisplayType": "Text",
       "validationRegex": null
      },
      "parameterDataType": "String"
     },
     "widgetInfo": {
      "widgetType": "text",
      "defaultValue": "source",
      "label": "volume",
      "name": "volume",
      "options": {
       "widgetType": "text",
       "autoCreated": false,
       "validationRegex": null
      }
     }
    }
   }
  },
  "language_info": {
   "name": "python"
  }
 },
 "nbformat": 4,
 "nbformat_minor": 0
}
