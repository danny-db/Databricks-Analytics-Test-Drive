{
 "cells": [
  {
   "cell_type": "code",
   "execution_count": 0,
   "metadata": {
    "application/vnd.databricks.v1+cell": {
     "cellMetadata": {
      "byteLimit": 2048000,
      "implicitDf": true,
      "rowLimit": 10000
     },
     "inputWidgets": {},
     "nuid": "2b94e495-cafa-4230-87de-2fe3eac9942c",
     "showTitle": false,
     "tableResultSettingsMap": {},
     "title": ""
    }
   },
   "outputs": [],
   "source": [
    "dbutils.widgets.text(\"catalog\", \"test_drive\", \"catalog\")\n",
    "dbutils.widgets.text(\"schema\", \"road_crash\", \"schema\")\n",
    "dbutils.widgets.text(\"volume\", \"source\", \"volume\")"
   ]
  },
  {
   "cell_type": "code",
   "execution_count": 0,
   "metadata": {
    "application/vnd.databricks.v1+cell": {
     "cellMetadata": {
      "byteLimit": 2048000,
      "rowLimit": 10000
     },
     "inputWidgets": {},
     "nuid": "45524e9e-18b3-46c4-880d-ea3dcfb91467",
     "showTitle": false,
     "tableResultSettingsMap": {},
     "title": ""
    }
   },
   "outputs": [],
   "source": [
    "catalog = dbutils.widgets.get(\"catalog\")\n",
    "schema = dbutils.widgets.get(\"schema\")\n",
    "volume = dbutils.widgets.get(\"volume\")"
   ]
  },
  {
   "cell_type": "code",
   "execution_count": 0,
   "metadata": {
    "application/vnd.databricks.v1+cell": {
     "cellMetadata": {
      "byteLimit": 2048000,
      "implicitDf": true,
      "rowLimit": 10000
     },
     "inputWidgets": {},
     "nuid": "de2e2693-193f-40b0-90c1-33c3d093c6bf",
     "showTitle": false,
     "tableResultSettingsMap": {},
     "title": ""
    }
   },
   "outputs": [],
   "source": [
    "spark.sql(f\"\"\"\n",
    "CREATE OR REPLACE VIEW {catalog}.{schema}.metrics_crash\n",
    "WITH METRICS\n",
    "LANGUAGE YAML \n",
    "AS $$\n",
    "version: 0.1\n",
    "source: test_drive.road_crash.vw_crash_details\n",
    "filter: Year >= 2010 AND REPORT_ID IS NOT NULL\n",
    "\n",
    "dimensions:\n",
    "  - name: Crash Year\n",
    "    expr: Year\n",
    "  - name: Crash Month  \n",
    "    expr: Month\n",
    "  - name: longitude\n",
    "    expr: longitude\n",
    "  - name: latitude\n",
    "    expr: latitude\n",
    "  - name: Crash Quarter\n",
    "    expr: CASE \n",
    "      WHEN Month IN ('January', 'February', 'March') THEN 'Q1'\n",
    "      WHEN Month IN ('April', 'May', 'June') THEN 'Q2'  \n",
    "      WHEN Month IN ('July', 'August', 'September') THEN 'Q3'\n",
    "      ELSE 'Q4'\n",
    "      END\n",
    "  - name: Time Period\n",
    "    expr: CASE\n",
    "      WHEN DayNight = 'Day' THEN 'Daylight Hours'\n",
    "      WHEN DayNight = 'Night' THEN 'Night Hours'\n",
    "      ELSE 'Unknown'\n",
    "      END\n",
    "  - name: LGA Region\n",
    "    expr: \"`LGA Name`\"\n",
    "  - name: Suburb Area\n",
    "    expr: Suburb\n",
    "  - name: Speed Zone Category\n",
    "    expr: CASE\n",
    "      WHEN `Area Speed` <= 50 THEN 'Urban (≤50 km/h)'\n",
    "      WHEN `Area Speed` <= 80 THEN 'Semi-Urban (51-80 km/h)'\n",
    "      WHEN `Area Speed` <= 100 THEN 'Rural (81-100 km/h)'\n",
    "      WHEN `Area Speed` > 100 THEN 'Highway (>100 km/h)'\n",
    "      ELSE 'Unknown Speed Limit'\n",
    "      END\n",
    "  - name: Road Condition\n",
    "    expr: COALESCE(`Road Surface`, 'Unknown')\n",
    "  - name: Weather Category\n",
    "    expr: CASE\n",
    "      WHEN `Weather Cond` = 'Not Raining' THEN 'Clear/Dry'\n",
    "      WHEN `Weather Cond` LIKE '%Rain%' THEN 'Wet/Rainy'\n",
    "      ELSE COALESCE(`Weather Cond`, 'Unknown')\n",
    "      END\n",
    "  - name: Road Surface Condition\n",
    "    expr: COALESCE(`Moisture Cond`, 'Unknown')\n",
    "  - name: Driver Gender\n",
    "    expr: CASE\n",
    "      WHEN Driver_Sex = 'Male' THEN 'Male'\n",
    "      WHEN Driver_Sex = 'Female' THEN 'Female'\n",
    "      ELSE 'Not Specified'\n",
    "      END\n",
    "  - name: Driver Age Group\n",
    "    expr: CASE\n",
    "      WHEN try_cast(Driver_Age AS INT) < 25 THEN 'Under 25'\n",
    "      WHEN try_cast(Driver_Age AS INT) < 35 THEN '25-34'\n",
    "      WHEN try_cast(Driver_Age AS INT) < 50 THEN '35-49'\n",
    "      WHEN try_cast(Driver_Age AS INT) < 65 THEN '50-64'\n",
    "      WHEN try_cast(Driver_Age AS INT) >= 65 THEN '65+'\n",
    "      ELSE 'Unknown Age'\n",
    "      END    \n",
    "  - name: Vehicle Age Category\n",
    "    expr: CASE\n",
    "      WHEN try_cast(`Veh Year` AS INT) >= 2020 THEN 'New (2020+)'\n",
    "      WHEN try_cast(`Veh Year` AS INT) >= 2015 THEN 'Recent (2015-2019)'\n",
    "      WHEN try_cast(`Veh Year` AS INT) >= 2010 THEN 'Older (2010-2014)'\n",
    "      WHEN try_cast(`Veh Year` AS INT) >= 2000 THEN 'Old (2000-2009)'\n",
    "      WHEN try_cast(`Veh Year` AS INT) < 2000 THEN 'Very Old (<2000)'\n",
    "      ELSE 'Unknown Year'\n",
    "      END\n",
    "  - name: Safety Belt Usage\n",
    "    expr: CASE\n",
    "      WHEN `Seat Belt` = 'Fitted - Worn' THEN 'Seat Belt Used'\n",
    "      WHEN `Seat Belt` = 'Fitted - Not Worn' THEN 'Seat Belt Not Used'\n",
    "      WHEN `Seat Belt` IS NULL OR \"Seat Belt\" = 'null' THEN 'Not Applicable'\n",
    "      ELSE 'Unknown'\n",
    "      END  \n",
    "  - name: Injury Severity\n",
    "    expr: COALESCE(`Injury Extent`, 'No Injury Recorded')\n",
    "  - name: Casualty Category\n",
    "    expr: COALESCE(`Casualty Type`, 'No Casualty')\n",
    "\n",
    "measures:\n",
    "  - name: Total Crashes\n",
    "    expr: COUNT(DISTINCT REPORT_ID)\n",
    "  - name: Total Casualties\n",
    "    expr: SUM(try_cast(COALESCE(Total_Casualties, 0) AS INT))\n",
    "  - name: Total Fatalities\n",
    "    expr: SUM(try_cast(COALESCE(Total_Fatalities, 0) AS INT))\n",
    "  - name: Total Vehicles Involved\n",
    "    expr: SUM(try_cast(COALESCE(`Total Units`, 1) AS INT))\n",
    "  - name: Casualty Rate\n",
    "    expr: try_cast(SUM(COALESCE(Total_Casualties, 0)) / COUNT(DISTINCT REPORT_ID) AS DOUBLE)\n",
    "  - name: Fatality Rate\n",
    "    expr: try_cast(SUM(COALESCE(Total_Fatalities, 0)) / COUNT(DISTINCT REPORT_ID) AS DOUBLE)\n",
    "  - name: Multi Vehicle Crashes\n",
    "    expr: COUNT(DISTINCT CASE WHEN `Total Units` > 1 THEN REPORT_ID END)\n",
    "  - name: Single Vehicle Crashes\n",
    "    expr: COUNT(DISTINCT CASE WHEN `Total Units` = 1 THEN REPORT_ID END)\n",
    "  - name: Fatal Crashes\n",
    "    expr: COUNT(DISTINCT CASE WHEN Total_Fatalities > 0 THEN REPORT_ID END)\n",
    "  - name: Injury Crashes\n",
    "    expr: COUNT(DISTINCT CASE WHEN Total_Casualties > 0 THEN REPORT_ID END)\n",
    "  - name: Property Damage Only Crashes\n",
    "    expr: COUNT(DISTINCT CASE WHEN COALESCE(Total_Casualties, 0) = 0 AND COALESCE(Total_Fatalities, 0) = 0 THEN REPORT_ID END)\n",
    "  - name: Wet Weather Crashes\n",
    "    expr: COUNT(DISTINCT CASE WHEN `Weather Cond` LIKE '%Rain%' OR \"Moisture Cond\" = 'Wet' THEN REPORT_ID END)\n",
    "  - name: Night Time Crashes\n",
    "    expr: COUNT(DISTINCT CASE WHEN DayNight = 'Night' THEN REPORT_ID END)\n",
    "  - name: High Speed Zone Crashes\n",
    "    expr: COUNT(DISTINCT CASE WHEN `Area Speed` > 80 THEN REPORT_ID END)\n",
    "  - name: Seat Belt Compliance Rate\n",
    "    expr: COUNT(CASE WHEN `Seat Belt` = 'Fitted - Worn' THEN 1 END) / NULLIF(COUNT(CASE WHEN `Seat Belt` IN ('Fitted - Worn', 'Fitted - Not Worn') THEN 1 END), 0)\n",
    "  - name: Hospital Admissions\n",
    "    expr: COUNT(CASE WHEN Hospital IS NOT NULL AND Hospital != 'null' THEN 1 END)\n",
    "  - name: Unique Locations\n",
    "    expr: COUNT(DISTINCT CONCAT(COALESCE(longitude, 0), ',', COALESCE(latitude, 0)))\n",
    "  - name: Average Speed Limit\n",
    "    expr: AVG(`Area Speed`)\n",
    "$$\n",
    "\"\"\")"
   ]
  }
 ],
 "metadata": {
  "application/vnd.databricks.v1+notebook": {
   "computePreferences": null,
   "dashboards": [],
   "environmentMetadata": {
    "base_environment": "",
    "environment_version": "3"
   },
   "inputWidgetPreferences": null,
   "language": "python",
   "notebookMetadata": {
    "mostRecentlyExecutedCommandWithImplicitDF": {
     "commandId": -1,
     "dataframes": [
      "_sqldf"
     ]
    },
    "pythonIndentUnit": 2
   },
   "notebookName": "02. Creating Metrics View",
   "widgets": {
    "catalog": {
     "currentValue": "test_drive",
     "nuid": "f90e2558-fcdc-46ec-a710-91724a54cdbc",
     "typedWidgetInfo": {
      "autoCreated": false,
      "defaultValue": "test_drive",
      "label": "catalog",
      "name": "catalog",
      "options": {
       "widgetDisplayType": "Text",
       "validationRegex": null
      },
      "parameterDataType": "String"
     },
     "widgetInfo": {
      "widgetType": "text",
      "defaultValue": "test_drive",
      "label": "catalog",
      "name": "catalog",
      "options": {
       "widgetType": "text",
       "autoCreated": false,
       "validationRegex": null
      }
     }
    },
    "schema": {
     "currentValue": "road_crash",
     "nuid": "74d18a0d-87f0-4fcc-abee-67d71a1b05a6",
     "typedWidgetInfo": {
      "autoCreated": false,
      "defaultValue": "road_crash",
      "label": "schema",
      "name": "schema",
      "options": {
       "widgetDisplayType": "Text",
       "validationRegex": null
      },
      "parameterDataType": "String"
     },
     "widgetInfo": {
      "widgetType": "text",
      "defaultValue": "road_crash",
      "label": "schema",
      "name": "schema",
      "options": {
       "widgetType": "text",
       "autoCreated": false,
       "validationRegex": null
      }
     }
    },
    "volume": {
     "currentValue": "source",
     "nuid": "6d861895-d1e6-41dd-a3f9-b0c66184dad3",
     "typedWidgetInfo": {
      "autoCreated": false,
      "defaultValue": "source",
      "label": "volume",
      "name": "volume",
      "options": {
       "widgetDisplayType": "Text",
       "validationRegex": null
      },
      "parameterDataType": "String"
     },
     "widgetInfo": {
      "widgetType": "text",
      "defaultValue": "source",
      "label": "volume",
      "name": "volume",
      "options": {
       "widgetType": "text",
       "autoCreated": false,
       "validationRegex": null
      }
     }
    }
   }
  },
  "language_info": {
   "name": "python"
  }
 },
 "nbformat": 4,
 "nbformat_minor": 0
}
